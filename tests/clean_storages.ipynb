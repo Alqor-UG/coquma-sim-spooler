{
 "cells": [
  {
   "cell_type": "markdown",
   "metadata": {},
   "source": [
    "# Clean dropbox and mongodb\n",
    "\n",
    "We have a lot of tests and sometimes simply forget to clean the dropbox. This is a simple code to clean the dropbox."
   ]
  },
  {
   "cell_type": "code",
   "execution_count": 3,
   "metadata": {},
   "outputs": [],
   "source": [
    "import sys\n",
    "\n",
    "import dropbox\n",
    "from dropbox.exceptions import AuthError\n",
    "from decouple import config"
   ]
  },
  {
   "cell_type": "code",
   "execution_count": 5,
   "metadata": {},
   "outputs": [],
   "source": [
    "app_key = config(\"APP_KEY\")\n",
    "app_secret = config(\"APP_SECRET\")\n",
    "refresh_token = config(\"REFRESH_TOKEN\")"
   ]
  },
  {
   "cell_type": "markdown",
   "metadata": {},
   "source": [
    "clean the configs"
   ]
  },
  {
   "cell_type": "code",
   "execution_count": 6,
   "metadata": {},
   "outputs": [],
   "source": [
    "def clean_dummies_from_folder(folder_path:str):\n",
    "    folder_path = folder_path.strip(\"/\")\n",
    "\n",
    "    folder_path = \"/\" + folder_path + \"/\"\n",
    "    with dropbox.Dropbox(\n",
    "        app_key=app_key,\n",
    "        app_secret=app_secret,\n",
    "        oauth2_refresh_token=refresh_token,\n",
    "    ) as dbx:\n",
    "        # Check that the access token is valid\n",
    "        try:\n",
    "            dbx.users_get_current_account()\n",
    "        except AuthError:\n",
    "            sys.exit(\"ERROR: Invalid access token.\")\n",
    "\n",
    "        folders_results = dbx.files_list_folder(path=folder_path)\n",
    "        entries = folders_results.entries\n",
    "        for entry in entries:\n",
    "            if \"dummy\" in entry.name:\n",
    "                print(\"Deleting folder: \" + entry.name)\n",
    "                full_path = folder_path + entry.name\n",
    "\n",
    "                print(\"Deleting folder: \" + full_path)\n",
    "                _ = dbx.files_delete_v2(path=full_path)"
   ]
  },
  {
   "cell_type": "code",
   "execution_count": 14,
   "metadata": {},
   "outputs": [
    {
     "name": "stdout",
     "output_type": "stream",
     "text": [
      "Deleting folder: dummy24f0f\n",
      "Deleting folder: /Backend_files/Config/dummy24f0f\n"
     ]
    }
   ],
   "source": [
    "backend_config_path = \"/Backend_files/Config/\"\n",
    "clean_dummies_from_folder(backend_config_path)\n"
   ]
  },
  {
   "cell_type": "markdown",
   "metadata": {},
   "source": [
    "Clean the finished jobs"
   ]
  },
  {
   "cell_type": "code",
   "execution_count": 15,
   "metadata": {},
   "outputs": [
    {
     "name": "stdout",
     "output_type": "stream",
     "text": [
      "Deleting folder: dummy24f0f\n",
      "Deleting folder: /Backend_files/Finished_Jobs/dummy24f0f\n",
      "Deleting folder: dummy4f2ab\n",
      "Deleting folder: /Backend_files/Finished_Jobs/dummy4f2ab\n"
     ]
    }
   ],
   "source": [
    "folder_path = \"/Backend_files/Finished_Jobs/\"\n",
    "clean_dummies_from_folder(folder_path)"
   ]
  },
  {
   "cell_type": "code",
   "execution_count": 16,
   "metadata": {},
   "outputs": [
    {
     "name": "stdout",
     "output_type": "stream",
     "text": [
      "Deleting folder: dummy24f0f\n",
      "Deleting folder: /Backend_files/Queued_Jobs/dummy24f0f\n"
     ]
    }
   ],
   "source": [
    "folder_path = \"/Backend_files/Queued_Jobs/\"\n",
    "clean_dummies_from_folder(folder_path)"
   ]
  },
  {
   "cell_type": "code",
   "execution_count": 17,
   "metadata": {},
   "outputs": [
    {
     "name": "stdout",
     "output_type": "stream",
     "text": [
      "Deleting folder: dummy24f0f\n",
      "Deleting folder: /Backend_files/Result/dummy24f0f\n"
     ]
    }
   ],
   "source": [
    "folder_path = \"/Backend_files/Result/\"\n",
    "clean_dummies_from_folder(folder_path)"
   ]
  },
  {
   "cell_type": "code",
   "execution_count": 18,
   "metadata": {},
   "outputs": [
    {
     "name": "stdout",
     "output_type": "stream",
     "text": [
      "Deleting folder: dummy24f0f\n",
      "Deleting folder: /Backend_files/Status/dummy24f0f\n"
     ]
    }
   ],
   "source": [
    "folder_path = \"/Backend_files/Status/\"\n",
    "clean_dummies_from_folder(folder_path)"
   ]
  },
  {
   "cell_type": "markdown",
   "metadata": {},
   "source": [
    "## Mongodb\n",
    "\n",
    "For the mongodb we have to do similiar things."
   ]
  },
  {
   "cell_type": "code",
   "execution_count": 1,
   "metadata": {},
   "outputs": [],
   "source": [
    "from pymongo.mongo_client import MongoClient\n",
    "from bson.objectid import ObjectId\n",
    "from bson.errors import InvalidId"
   ]
  },
  {
   "cell_type": "code",
   "execution_count": 4,
   "metadata": {},
   "outputs": [],
   "source": [
    "mongodb_username = config(\"MONGODB_USERNAME\")\n",
    "mongodb_password = config(\"MONGODB_PASSWORD\")\n",
    "mongodb_database_url = config(\"MONGODB_DATABASE_URL\")\n",
    "uri = f\"mongodb+srv://{mongodb_username}:{mongodb_password}@{mongodb_database_url}\"\n",
    "uri = uri + \"/?retryWrites=true&w=majority\"\n",
    "\n",
    "# Create a new client and connect to the server\n",
    "client: MongoClient = MongoClient(uri)"
   ]
  },
  {
   "cell_type": "code",
   "execution_count": 6,
   "metadata": {},
   "outputs": [
    {
     "name": "stdout",
     "output_type": "stream",
     "text": [
      "{'description': 'Setup of a cold atomic gas experiment with a single qudit.', 'version': '0.3', 'display_name': 'singlequdit', 'cold_atom_type': 'spin', 'gates': [{'coupling_map': [[0]], 'description': 'Evolution under Lx', 'name': 'rlx', 'parameters': ['omega'], 'qasm_def': 'gate lrx(omega) {}'}, {'coupling_map': [[0]], 'description': 'Evolution under the Z gate', 'name': 'rlz', 'parameters': ['delta'], 'qasm_def': 'gate rlz(delta) {}'}, {'coupling_map': [[0]], 'description': 'Evolution under lz2', 'name': 'rlz2', 'parameters': ['chi'], 'qasm_def': 'gate rlz2(chi) {}'}, {'coupling_map': [[0]], 'description': 'Apply the full time evolution on the array.', 'name': 'sq_full', 'parameters': ['omega, delta, chi'], 'qasm_def': 'gate sq_full(omega, delta, chi) {}'}], 'max_experiments': 1000, 'max_shots': 1000000, 'simulator': True, 'supported_instructions': ['rlx', 'rlz', 'rlz2', 'barrier', 'measure', 'load', 'sq_full'], 'num_wires': 1, 'wire_order': 'interleaved', 'num_species': 1, 'pending_jobs': None, 'status_msg': None, 'last_queue_check': datetime.datetime(2024, 5, 5, 11, 13, 34), 'sign': True, 'kid': 'test_key'}\n",
      "{'description': 'Setup of a cold atomic gas experiment with a multiple qudits.', 'version': '0.2', 'display_name': 'multiqudit', 'cold_atom_type': 'spin', 'gates': [{'coupling_map': [[0], [1], [2], [3], [4]], 'description': 'Evolution under Lx', 'name': 'rlx', 'parameters': ['omega'], 'qasm_def': 'gate lrx(omega) {}'}, {'coupling_map': [[0], [1], [2], [3], [4]], 'description': 'Evolution under the Z gate', 'name': 'rlz', 'parameters': ['delta'], 'qasm_def': 'gate rlz(delta) {}'}, {'coupling_map': [[0], [1], [2], [3], [4]], 'description': 'Evolution under lz2', 'name': 'rlz2', 'parameters': ['chi'], 'qasm_def': 'gate rlz2(chi) {}'}, {'coupling_map': [[0, 1], [1, 2], [2, 3], [3, 4], [0, 1, 2, 3, 4]], 'description': 'Entanglement between neighboring gates with an xy interaction', 'name': 'rlxly', 'parameters': ['J'], 'qasm_def': 'gate rlylx(J) {}'}, {'coupling_map': [[0, 1], [1, 2], [2, 3], [3, 4], [0, 1, 2, 3, 4]], 'description': 'Entanglement between neighboring gates with a zz interaction', 'name': 'rlzlz', 'parameters': ['J'], 'qasm_def': 'gate rlzlz(J) {}'}, {'coupling_map': [[0], [0, 1], [0, 1, 2], [0, 1, 2, 3], [0, 1, 2, 3, 4]], 'description': 'Apply the Rydberg and Rabi coupling over the whole array.', 'name': 'multiqudit_full', 'parameters': ['omega, delta, chi, Jxy, Jzz'], 'qasm_def': 'gate multiqudit_full(omega, delta, chi, Jxy, Jzz) {}'}], 'max_experiments': 1000, 'max_shots': 1000000, 'simulator': True, 'supported_instructions': ['rlx', 'rlz', 'rlz2', 'rlxly', 'rlzlz', 'barrier', 'measure', 'load', 'multiqudit_full'], 'num_wires': 5, 'wire_order': 'interleaved', 'num_species': 1, 'pending_jobs': None, 'status_msg': None, 'last_queue_check': datetime.datetime(2024, 5, 5, 11, 13, 35), 'sign': True, 'kid': 'test_key'}\n",
      "{'description': 'simulator of a fermionic tweezer hardware. The even wires denote the occupations of the spin-up fermions and the odd wires denote the spin-down fermions', 'version': '0.1', 'display_name': 'fermions', 'cold_atom_type': 'fermion', 'gates': [{'coupling_map': [[0, 1, 2, 3], [2, 3, 4, 5], [4, 5, 6, 7], [0, 1, 2, 3, 4, 5, 6, 7]], 'description': 'hopping of atoms to neighboring tweezers', 'name': 'fhop', 'parameters': ['j_i'], 'qasm_def': '{}'}, {'coupling_map': [[0, 1, 2, 3, 4, 5, 6, 7]], 'description': 'on-site interaction of atoms of opposite spin state', 'name': 'fint', 'parameters': ['u'], 'qasm_def': '{}'}, {'coupling_map': [[0, 1], [2, 3], [4, 5], [6, 7], [0, 1, 2, 3, 4, 5, 6, 7]], 'description': 'Applying a local phase to tweezers through an external potential', 'name': 'fphase', 'parameters': ['mu_i'], 'qasm_def': '{}'}], 'max_experiments': 1000, 'max_shots': 1000000, 'simulator': True, 'supported_instructions': ['load', 'barrier', 'fhop', 'fint', 'fphase', 'measure'], 'num_wires': 8, 'wire_order': 'interleaved', 'num_species': 2, 'pending_jobs': None, 'status_msg': None, 'last_queue_check': datetime.datetime(2024, 5, 5, 11, 13, 36), 'sign': True, 'kid': 'test_key'}\n",
      "{'description': 'A chain of qubits realized through Rydberg atoms.', 'version': '0.3', 'display_name': 'rydberg', 'cold_atom_type': 'spin', 'gates': [{'coupling_map': [[0], [1], [2], [3], [4]], 'description': 'Evolution under Rlx', 'name': 'rlx', 'parameters': ['omega'], 'qasm_def': 'gate rlx(omega) {}'}, {'coupling_map': [[0], [1], [2], [3], [4]], 'description': 'Evolution under the Rlz gate', 'name': 'rlz', 'parameters': ['delta'], 'qasm_def': 'gate rlz(delta) {}'}, {'coupling_map': [[0, 1, 2, 3, 4]], 'description': 'Apply the Rydberg blockade over the whole array', 'name': 'rydberg_block', 'parameters': ['phi'], 'qasm_def': 'gate rydberg_block(phi) {}'}, {'coupling_map': [[0, 1, 2, 3, 4]], 'description': 'Apply the Rydberg and Rabi coupling over the whole array.', 'name': 'rydberg_full', 'parameters': ['omega, delta, phi'], 'qasm_def': 'gate rydberg_full(omega, delta, phi) {}'}], 'max_experiments': 1000, 'max_shots': 1000000, 'simulator': True, 'supported_instructions': ['rlx', 'rlz', 'rydberg_block', 'rydberg_full', 'barrier', 'measure'], 'num_wires': 5, 'wire_order': 'interleaved', 'num_species': 1, 'pending_jobs': None, 'status_msg': None, 'last_queue_check': datetime.datetime(2024, 5, 5, 11, 13, 37), 'sign': True, 'kid': 'test_key'}\n",
      "{'description': 'This is a dummy backend.', 'version': '0.0.1', 'display_name': 'dummy1f584', 'cold_atom_type': 'boson', 'gates': [], 'max_experiments': 1, 'max_shots': 1, 'simulator': True, 'supported_instructions': [], 'num_wires': 3, 'wire_order': 'interleaved', 'num_species': 1, 'pending_jobs': None, 'status_msg': None, 'last_queue_check': datetime.datetime(2024, 5, 5, 11, 16, 46), 'sign': True, 'kid': 'dummy1f584'}\n",
      "Deleting config: dummy1f584\n",
      "Deleting config: dummy05829\n",
      "Deleting random config\n",
      "{'description': 'This is a dummy backend.', 'version': '0.0.1', 'display_name': 'dummy0b375', 'cold_atom_type': 'fermion', 'gates': [], 'max_experiments': 1, 'max_shots': 1, 'simulator': True, 'supported_instructions': [], 'num_wires': 3, 'wire_order': 'interleaved', 'num_species': 1, 'pending_jobs': None, 'status_msg': None, 'last_queue_check': None, 'sign': True, 'kid': 'test_kid'}\n",
      "Deleting config: dummy0b375\n"
     ]
    }
   ],
   "source": [
    "database = client[\"backends\"]\n",
    "collection = database[\"configs\"]\n",
    "# get all the documents in the collection configs and save the disply_name in a list\n",
    "\n",
    "backend_names: list = []\n",
    "for config_dict in collection.find():\n",
    "    if \"display_name\" in config_dict:\n",
    "        if \"dummy\" in config_dict[\"display_name\"]:\n",
    "            print(\"Deleting config: \" + config_dict[\"display_name\"])\n",
    "            collection.delete_one({\"_id\": ObjectId(config_dict[\"_id\"])})\n",
    "    if \"payload\" in config_dict:\n",
    "        if \"display_name\" in config_dict[\"payload\"]:\n",
    "            print(config_dict[\"payload\"])\n",
    "            if \"dummy\" in config_dict[\"payload\"][\"display_name\"]:\n",
    "                print(\"Deleting config: \" + config_dict[\"payload\"][\"display_name\"])\n",
    "                collection.delete_one({\"_id\": ObjectId(config_dict[\"_id\"])})\n",
    "        else:\n",
    "            print(\"Deleting config: \" + config_dict[\"display_name\"])\n",
    "            collection.delete_one({\"_id\": ObjectId(config_dict[\"_id\"])})\n",
    "    else:\n",
    "        print(\"Deleting random config\")\n",
    "        collection.delete_one({\"_id\": ObjectId(config_dict[\"_id\"])})\n",
    "        "
   ]
  },
  {
   "cell_type": "markdown",
   "metadata": {},
   "source": [
    "Now also clean out stupid collections of finished jobs."
   ]
  },
  {
   "cell_type": "code",
   "execution_count": 7,
   "metadata": {},
   "outputs": [
    {
     "name": "stdout",
     "output_type": "stream",
     "text": [
      "['finished.dummya8b41', 'finished.dummy92554', 'finished.dummydcc97', 'finished.dummy2e429', 'finished.dummy064de', 'finished.dummyd9eea', 'finished.dummy0e7ac', 'finished.dummy41ed5', 'finished.dummydbfa0', 'finished.dummy05cc0', 'finished.dummy60cf0', 'finished.dummyce76d', 'finished.dummy5b006', 'finished.dummye3211', 'finished.dummy2a94a', 'finished.dummy24c33', 'finished.dummy4f02c', 'finished.dummy8bd5d', 'finished.dummy1b479', 'finished.dummyc6d9c', 'finished.dummy4fdab', 'finished.dummy9dc94', 'finished.dummyacaf1', 'finished.dummy254e2', 'finished.dummya9f0d', 'finished.dummybcb4d', 'finished.dummyf7ae7', 'finished.dummy6f4e9', 'finished.dummyb4c4d', 'finished.dummy5edaf', 'finished.dummydf1d0', 'finished.dummy22039', 'finished.dummy46e11', 'finished.dummy53bef', 'finished.dummy557ee', 'finished.dummyb22d1', 'finished.dummy7fcff', 'finished.dummy64f5a', 'finished.dummyefa0c', 'finished.dummyb07c0', 'finished.dummy7d7a3', 'finished.dummy2dcbc', 'finished.dummybcecb', 'finished.dummydd408', 'finished.dummydf675', 'finished.dummy39de2', 'finished.dummy65b26', 'finished.dummy47e81', 'finished.dummy5bb5e', 'finished.dummy954c2', 'finished.dummy44bd0', 'finished.dummyc4b16', 'finished.dummya45b9', 'finished.dummyb950d', 'finished.dummyaf95c', 'finished.dummycb223', 'finished.dummy066c9', 'finished.dummyae3b1', 'finished.dummyfe4e1', 'finished.dummy4fb7b', 'finished.dummye23b8', 'finished.dummy9c9ec', 'finished.dummy1fb88', 'finished.dummy648a1', 'finished.dummy07bd3', 'finished.dummyf8ac0', 'finished.dummyc7e9d', 'finished.dummyc3a18', 'finished.dummy89f69', 'finished.dummy63387', 'finished.dummy67996', 'finished.dummy701ad', 'finished.dummy3d774', 'finished.dummy41a3f', 'finished.dummyde638', 'running', 'finished.dummy3454b', 'finished.dummy69b4e', 'finished.dummy3ee83', 'finished.dummy2fa6a', 'finished.dummye71b4', 'finished.dummy26ca6', 'finished.dummy11cba', 'finished.dummyb2786', 'finished.dummy2879c', 'finished.dummy54d69', 'finished.dummy6d70d', 'finished.dummyb925a', 'finished.dummyf5dfb', 'finished.dummyf3f5d', 'finished.dummyf5b58', 'finished.dummyf4e7e', 'finished.dummy4242f', 'finished.dummyf79b0', 'finished.dummyd963a', 'finished.dummy65287', 'finished.dummy5b66b', 'finished.dummy6ede7', 'finished.dummya4870', 'finished.dummy03ec9', 'finished.dummyf6748', 'finished.dummyc6436', 'finished.dummydae02', 'finished.dummy72e87', 'finished.dummy371e4', 'finished.dummy86977', 'finished.dummy8a32d', 'finished.dummy0df62', 'finished.dummy3f1c1', 'finished.dummy13c52', 'finished.dummyc87a3', 'finished.dummyb63a6', 'finished.dummy8ada2', 'finished.dummy6c396', 'finished.dummycc2a9', 'finished.dummy8d99c', 'finished.dummye932a', 'finished.dummy6dfdb', 'finished.dummy7d696', 'finished.dummy06bc6', 'finished.dummy5628c', 'finished.dummy55b5a', 'finished.dummy27701', 'finished.dummy94f3e', 'finished.dummyae0aa', 'finished.dummy72d09', 'finished.dummy5acbe', 'finished.dummyef34d', 'finished.dummy36aca', 'finished.dummy0f06b', 'finished.dummy58ccb', 'finished.dummyb871f', 'finished.dummy943ac', 'finished.dummyafa5f', 'finished.dummy12755', 'finished.dummy2c150', 'finished.dummyc5f5e', 'finished.dummy9343d', 'finished.dummydb157', 'finished.dummy97035', 'finished.dummy3da51', 'finished.dummyba4cc', 'finished.dummy03394', 'finished.dummy73e31', 'finished.dummy56e6b', 'finished.dummy88280', 'finished.dummyba914', 'finished.dummy46b7e', 'finished.dummy137c2', 'finished.dummy7e63c', 'finished.dummy76068', 'finished.dummyb1f3c', 'finished.dummycb9d4', 'finished.dummycd15c', 'finished.dummy5aeda', 'finished.dummyd8dc5', 'finished.dummyec06b', 'finished.dummy3a273', 'finished.dummye24c6', 'finished.dummydd846', 'finished.dummy33516', 'finished.dummy4add9', 'finished.dummya855e', 'finished.dummy0e509', 'finished.dummyc6761', 'finished.dummyda13d', 'finished.dummyacdec', 'finished.dummya3df7', 'finished.dummy9f097', 'finished.dummy29f16', 'finished.dummy897e1', 'finished.dummy5e8c2', 'finished.dummy0f9db', 'finished.dummy70ca2', 'finished.dummy801bd', 'finished.dummy962d7', 'finished.dummy0e47c', 'finished.dummyf8620', 'finished.dummy198a7', 'finished.dummya94ff', 'finished.dummy1115d', 'finished.dummy5e2b7', 'finished.dummy4f18c', 'finished.dummy4de49', 'finished.dummyd939f', 'finished.dummy18c03', 'finished.dummyebb75', 'finished.dummya0144', 'finished.dummye9455', 'finished.dummy7ca49', 'finished.dummy28bf6', 'finished.dummy061e4', 'finished.dummy1e97a', 'finished.dummy1b0a2', 'queued.fermions', 'finished.dummy96071', 'finished.dummy40585', 'finished.dummy6e066', 'finished.dummyd2a6a', 'finished.dummybe4f2', 'finished.dummyccda0', 'finished.dummy26885', 'finished.dummy2a664', 'finished.dummy5019d', 'finished.dummyb8906', 'finished.dummy533fc', 'finished.dummyf0997', 'finished.dummya64ee', 'finished.dummy4a139', 'finished.dummy23b90', 'finished.dummy3209e', 'finished.dummy0dbb3', 'finished.dummyf0549', 'finished.dummy30a2e', 'finished.dummy6ef77', 'finished.dummy12850', 'finished.dummy4851b', 'finished.dummydf677', 'finished.dummy1fa3a', 'finished.dummyd50cc', 'finished.dummyf9e0f', 'finished.dummy1e924', 'finished.dummyf5eec', 'finished.dummy8b6eb', 'finished.dummy6720a', 'finished.dummy8975b', 'finished.dummycbc45', 'finished.dummyeac21', 'finished.dummyc338c', 'finished.dummy5d80b', 'finished.dummy53c2f', 'finished.dummy5fde2', 'finished.dummy6249b', 'finished.dummydf0ce', 'finished.dummy0f892', 'finished.dummyf34c8', 'deleted', 'finished.dummy869ee', 'finished.dummyb6a38', 'finished.dummy20e8e', 'finished.dummy34bdb', 'finished.dummy871ee', 'finished.dummy3e98f', 'finished.dummy5ec7d', 'finished.dummye951d', 'finished.dummyda016', 'finished.dummy70752', 'finished.dummy81dff', 'finished.dummye2c26', 'finished.dummyfc007', 'finished.dummyc66f3', 'finished.dummy0a207', 'finished.dummyba6c5', 'finished.dummy95d86', 'finished.dummy2de1d', 'finished.dummy44cce', 'finished.dummybe590', 'finished.dummy81a65', 'finished.dummy96941', 'finished.dummyd123b', 'finished.dummyad895', 'finished.dummy48672', 'finished.dummy53123', 'finished.dummy86507', 'finished.dummy436b1', 'finished.dummy7c5ca', 'finished.dummy6d5da', 'finished.dummyd0a65', 'finished.dummyafbd4', 'finished.dummy40fce', 'finished.dummyd643d', 'finished.dummy58eaf', 'finished.dummy5f2eb', 'finished.dummy32677', 'finished.dummyf42cd', 'finished.dummya87a1', 'finished.dummya79a7', 'finished.dummy076d8', 'finished.dummyc51b9', 'finished.dummy89c0a', 'finished.dummy62739', 'finished.dummyeb76c', 'finished.dummy3e0bc', 'finished.dummyfce6d', 'finished.dummy7a08e', 'finished.dummy63ff4', 'finished.dummyf4a3a', 'finished.dummy43e52', 'finished.dummy1e02a', 'finished.dummy0e87b', 'finished.dummy14b92', 'finished.dummy4f285', 'finished.dummy6c29a', 'finished.dummyefbf3', 'finished.dummy77a38', 'finished.dummy4426c', 'finished.dummyb0486', 'finished.dummy8bb30', 'finished.dummy29e5a', 'finished.dummyde56a', 'finished.dummya86a7', 'finished.dummye5a44', 'finished.dummy22be5', 'finished.dummy5de19', 'finished.dummy313ab', 'finished.dummyd5419', 'finished.dummy64df1', 'finished.dummyc1834', 'finished.dummye816d', 'finished.dummyfcbf3', 'finished.dummye222d', 'finished.dummyd0bcc', 'finished.dummy0842a', 'finished.dummy8eab1', 'finished.dummy8e412', 'finished.dummyb0410', 'finished.dummy5d66d', 'finished.dummyf615e', 'finished.dummy59e4a', 'finished.dummy1d87d', 'finished.dummy194f0', 'finished.dummy86af9', 'finished.dummy283a0', 'finished.dummy031b3', 'finished.dummydcd50', 'finished.dummy2d6d8', 'finished.dummyb3f69', 'finished.dummyd50af', 'finished.dummy13468', 'finished.dummya1135', 'finished.dummy2cc04', 'finished.dummy4d400', 'finished.dummy0d676', 'finished.dummy366b6', 'finished.dummy66530', 'finished.dummy357ee', 'finished.dummy864f3', 'finished.dummyc9c3c', 'finished.dummyd4eab', 'finished.dummyc8a83', 'finished.dummyf6a47', 'finished.dummyddcc7', 'finished.dummybcfa9', 'finished.dummyb6a0d', 'finished.dummy5e0e5', 'finished.dummyfccd3', 'finished.dummy0506a', 'finished.dummy32a27', 'finished.dummybd2eb', 'finished.dummyfb87a', 'finished.dummy4017b', 'finished.dummyfdee0', 'finished.dummy83c8b', 'finished.dummycffb1', 'finished.dummy2fbf9', 'finished.dummy9a7aa', 'finished.dummyb68a3', 'finished.dummy29f4d', 'finished.dummyfc9e0', 'finished.dummy5912c', 'finished.dummyf0a8d', 'finished.dummy90a81', 'finished.dummy62ab0', 'finished.dummyb7fa0', 'finished.dummy65f8c', 'finished.dummy14a32', 'finished.dummyc8004', 'finished.dummyc1f3c', 'finished.dummy2ecea', 'finished.dummya4a7e', 'finished.dummy25bb8', 'finished.dummy27ed1', 'finished.dummy94132', 'finished.dummy8ebe7', 'finished.dummy47f78', 'finished.dummyeb248', 'finished.dummyae057', 'finished.dummy1b2e4', 'finished.dummy6c1dc', 'finished.dummy4b4e4', 'finished.dummyaa3c7', 'finished.dummydeac1', 'finished.dummy035c0', 'finished.dummy28e14', 'finished.dummy15ab3', 'finished.dummy9b743', 'finished.dummye4840', 'finished.dummy9b7b5', 'finished.dummy5728b', 'finished.dummy31b1e', 'finished.dummy188f8', 'finished.dummye8f34', 'finished.dummyf61fb', 'finished.dummydd933', 'finished.dummy9346d', 'finished.dummyb2315', 'finished.dummy1d3cc', 'finished.fermions', 'finished.dummyade61', 'finished.dummy75b57', 'finished.dummy95798', 'finished.dummy73919', 'finished.dummy3be29', 'finished.dummydca18', 'finished.dummy1dab4', 'finished.dummyc56f6']\n"
     ]
    }
   ],
   "source": [
    "database = client[\"jobs\"]\n",
    "\n",
    "# now get a list of all existing collections within the database\n",
    "collections = database.list_collection_names()\n",
    "print(collections)\n",
    "for name in collections:\n",
    "    if \"dummy\" in name:\n",
    "        print(\"Deleting collection: \" + name)\n",
    "        collection = database[name]\n",
    "        collection.drop()"
   ]
  }
 ],
 "metadata": {
  "kernelspec": {
   "display_name": "sqooler-H-q1kjQB-py3.12",
   "language": "python",
   "name": "python3"
  },
  "language_info": {
   "codemirror_mode": {
    "name": "ipython",
    "version": 3
   },
   "file_extension": ".py",
   "mimetype": "text/x-python",
   "name": "python",
   "nbconvert_exporter": "python",
   "pygments_lexer": "ipython3",
   "version": "3.12.1"
  }
 },
 "nbformat": 4,
 "nbformat_minor": 2
}
