{
 "cells": [
  {
   "cell_type": "markdown",
   "metadata": {},
   "source": [
    "# Clean dropbox\n",
    "\n",
    "We have a lot of tests and sometimes simply forget to clean the dropbox. This is a simple code to clean the dropbox."
   ]
  },
  {
   "cell_type": "code",
   "execution_count": 4,
   "metadata": {},
   "outputs": [],
   "source": [
    "import sys\n",
    "\n",
    "import dropbox\n",
    "from dropbox.exceptions import AuthError\n",
    "from decouple import config"
   ]
  },
  {
   "cell_type": "code",
   "execution_count": 5,
   "metadata": {},
   "outputs": [],
   "source": [
    "app_key = config(\"APP_KEY\")\n",
    "app_secret = config(\"APP_SECRET\")\n",
    "refresh_token = config(\"REFRESH_TOKEN\")"
   ]
  },
  {
   "cell_type": "markdown",
   "metadata": {},
   "source": [
    "clean the configs"
   ]
  },
  {
   "cell_type": "code",
   "execution_count": 6,
   "metadata": {},
   "outputs": [],
   "source": [
    "def clean_dummies_from_folder(folder_path:str):\n",
    "    folder_path = folder_path.strip(\"/\")\n",
    "\n",
    "    folder_path = \"/\" + folder_path + \"/\"\n",
    "    with dropbox.Dropbox(\n",
    "        app_key=app_key,\n",
    "        app_secret=app_secret,\n",
    "        oauth2_refresh_token=refresh_token,\n",
    "    ) as dbx:\n",
    "        # Check that the access token is valid\n",
    "        try:\n",
    "            dbx.users_get_current_account()\n",
    "        except AuthError:\n",
    "            sys.exit(\"ERROR: Invalid access token.\")\n",
    "\n",
    "        folders_results = dbx.files_list_folder(path=folder_path)\n",
    "        entries = folders_results.entries\n",
    "        for entry in entries:\n",
    "            if \"dummy\" in entry.name:\n",
    "                print(\"Deleting folder: \" + entry.name)\n",
    "                full_path = folder_path + entry.name\n",
    "\n",
    "                print(\"Deleting folder: \" + full_path)\n",
    "                _ = dbx.files_delete_v2(path=full_path)"
   ]
  },
  {
   "cell_type": "code",
   "execution_count": 14,
   "metadata": {},
   "outputs": [
    {
     "name": "stdout",
     "output_type": "stream",
     "text": [
      "Deleting folder: dummy24f0f\n",
      "Deleting folder: /Backend_files/Config/dummy24f0f\n"
     ]
    }
   ],
   "source": [
    "backend_config_path = \"/Backend_files/Config/\"\n",
    "clean_dummies_from_folder(backend_config_path)\n"
   ]
  },
  {
   "cell_type": "markdown",
   "metadata": {},
   "source": [
    "Clean the finished jobs"
   ]
  },
  {
   "cell_type": "code",
   "execution_count": 15,
   "metadata": {},
   "outputs": [
    {
     "name": "stdout",
     "output_type": "stream",
     "text": [
      "Deleting folder: dummy24f0f\n",
      "Deleting folder: /Backend_files/Finished_Jobs/dummy24f0f\n",
      "Deleting folder: dummy4f2ab\n",
      "Deleting folder: /Backend_files/Finished_Jobs/dummy4f2ab\n"
     ]
    }
   ],
   "source": [
    "folder_path = \"/Backend_files/Finished_Jobs/\"\n",
    "clean_dummies_from_folder(folder_path)"
   ]
  },
  {
   "cell_type": "code",
   "execution_count": 16,
   "metadata": {},
   "outputs": [
    {
     "name": "stdout",
     "output_type": "stream",
     "text": [
      "Deleting folder: dummy24f0f\n",
      "Deleting folder: /Backend_files/Queued_Jobs/dummy24f0f\n"
     ]
    }
   ],
   "source": [
    "folder_path = \"/Backend_files/Queued_Jobs/\"\n",
    "clean_dummies_from_folder(folder_path)"
   ]
  },
  {
   "cell_type": "code",
   "execution_count": 17,
   "metadata": {},
   "outputs": [
    {
     "name": "stdout",
     "output_type": "stream",
     "text": [
      "Deleting folder: dummy24f0f\n",
      "Deleting folder: /Backend_files/Result/dummy24f0f\n"
     ]
    }
   ],
   "source": [
    "folder_path = \"/Backend_files/Result/\"\n",
    "clean_dummies_from_folder(folder_path)"
   ]
  },
  {
   "cell_type": "code",
   "execution_count": 18,
   "metadata": {},
   "outputs": [
    {
     "name": "stdout",
     "output_type": "stream",
     "text": [
      "Deleting folder: dummy24f0f\n",
      "Deleting folder: /Backend_files/Status/dummy24f0f\n"
     ]
    }
   ],
   "source": [
    "folder_path = \"/Backend_files/Status/\"\n",
    "clean_dummies_from_folder(folder_path)"
   ]
  }
 ],
 "metadata": {
  "kernelspec": {
   "display_name": "sqooler-H-q1kjQB-py3.12",
   "language": "python",
   "name": "python3"
  },
  "language_info": {
   "codemirror_mode": {
    "name": "ipython",
    "version": 3
   },
   "file_extension": ".py",
   "mimetype": "text/x-python",
   "name": "python",
   "nbconvert_exporter": "python",
   "pygments_lexer": "ipython3",
   "version": "3.12.1"
  }
 },
 "nbformat": 4,
 "nbformat_minor": 2
}
