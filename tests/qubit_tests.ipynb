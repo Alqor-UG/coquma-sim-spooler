{
 "cells": [
  {
   "cell_type": "code",
   "execution_count": 6,
   "id": "0408bd7d-cb3e-457d-935c-1bceaac00d19",
   "metadata": {
    "tags": []
   },
   "outputs": [],
   "source": [
    "import numpy as np\n",
    "from scipy.sparse import identity, diags, csc_matrix  # type: ignore\n",
    "from scipy import sparse  # type: ignore\n",
    "from scipy.sparse.linalg import expm_multiply  # type: ignore\n",
    "from typing import Tuple, Literal, List, Optional"
   ]
  },
  {
   "cell_type": "markdown",
   "id": "e5f35e2e-56a9-4cf4-8983-a5c9b6f51ac8",
   "metadata": {},
   "source": [
    "prepare the matrices"
   ]
  },
  {
   "cell_type": "code",
   "execution_count": 46,
   "id": "13ba7380-54a4-4de1-bc02-63f658ca1249",
   "metadata": {
    "tags": []
   },
   "outputs": [],
   "source": [
    "spin_length = 1 / 2\n",
    "qudit_range = np.arange(spin_length, -(spin_length + 1), -1)\n",
    "lx = csc_matrix(\n",
    "        1\n",
    "        / 2\n",
    "        * diags(\n",
    "            [\n",
    "                np.sqrt(\n",
    "                    [\n",
    "                        (spin_length - m + 1) * (spin_length + m)\n",
    "                        for m in qudit_range[:-1]\n",
    "                    ]\n",
    "                ),\n",
    "                np.sqrt(\n",
    "                    [(spin_length + m + 1) * (spin_length - m) for m in qudit_range[1:]]\n",
    "                ),\n",
    "            ],\n",
    "            [-1, 1],\n",
    "        )\n",
    "    )\n",
    "ly = csc_matrix(\n",
    "        1\n",
    "        / (2 * 1j)\n",
    "        * diags(\n",
    "            [\n",
    "                np.sqrt(\n",
    "                    [\n",
    "                        (spin_length - m + 1) * (spin_length + m)\n",
    "                        for m in qudit_range[:-1]\n",
    "                    ]\n",
    "                ),\n",
    "                -1\n",
    "                * np.sqrt(\n",
    "                    [(spin_length + m + 1) * (spin_length - m) for m in qudit_range[1:]]\n",
    "                ),\n",
    "            ],\n",
    "            [-1, 1],\n",
    "        )\n",
    "    )\n",
    "\n",
    "lz = csc_matrix(diags([qudit_range], [0]))\n",
    "nocc = csc_matrix(diags([-qudit_range + 1 / 2], [0]))"
   ]
  },
  {
   "cell_type": "markdown",
   "id": "5c61645b-2327-4c61-858a-b5344cb55b54",
   "metadata": {},
   "source": [
    "and get the list done"
   ]
  },
  {
   "cell_type": "code",
   "execution_count": 47,
   "id": "ba50a9ba-3560-4145-b41f-6808e674f6a1",
   "metadata": {
    "tags": []
   },
   "outputs": [],
   "source": [
    "def op_at_wire(op: csc_matrix, pos: int, dim_per_wire: List[int]) -> csc_matrix:\n",
    "    \"\"\"\n",
    "    Applies an operation onto the wire and provides unitaries on the other wires.\n",
    "    Basically this creates the nice tensor products.\n",
    "\n",
    "    Args:\n",
    "        op (matrix): The operation that should be applied.\n",
    "        pos (int): The wire onto which the operation should be applied.\n",
    "        dim_per_wire (int): What is the local Hilbert space of each wire.\n",
    "\n",
    "    Returns:\n",
    "        The tensor product matrix.\n",
    "    \"\"\"\n",
    "    # There are two cases the first wire can be the identity or not\n",
    "    if pos == 0:\n",
    "        res = op\n",
    "    else:\n",
    "        res = csc_matrix(identity(dim_per_wire[0]))\n",
    "    # then loop for the rest\n",
    "    for i1 in np.arange(1, len(dim_per_wire)):\n",
    "        temp = csc_matrix(identity(dim_per_wire[i1]))\n",
    "        if i1 == pos:\n",
    "            temp = op\n",
    "        res = sparse.kron(res, temp)\n",
    "\n",
    "    return res"
   ]
  },
  {
   "cell_type": "code",
   "execution_count": 48,
   "id": "bea188e5-5bd3-4f22-812e-5aef07a5188a",
   "metadata": {
    "tags": []
   },
   "outputs": [
    {
     "name": "stdout",
     "output_type": "stream",
     "text": [
      "  (1, 0)\t0.5\n",
      "  (0, 1)\t0.5\n",
      "  (1, 0)\t-0.5j\n",
      "  (0, 1)\t0.5j\n",
      "  (0, 0)\t0.5\n",
      "  (1, 1)\t-0.5\n",
      "  (1, 1)\t1.0\n"
     ]
    }
   ],
   "source": [
    "print(lx)\n",
    "print(ly)\n",
    "print(lz)\n",
    "print(nocc)"
   ]
  },
  {
   "cell_type": "code",
   "execution_count": 49,
   "id": "f1a8ae3b-d434-42c4-ba8d-ca134d6bdb9c",
   "metadata": {
    "tags": []
   },
   "outputs": [
    {
     "name": "stdout",
     "output_type": "stream",
     "text": [
      "[2. 2.]\n"
     ]
    }
   ],
   "source": [
    "lx_list = []\n",
    "ly_list = []\n",
    "lz_list = []\n",
    "nocc_list = []\n",
    "n_wires = 2\n",
    "\n",
    "spin_per_wire = 1 / 2 * np.ones(n_wires)\n",
    "dim_per_wire = 2 * spin_per_wire + np.ones(n_wires)\n",
    "print(dim_per_wire)\n",
    "dim_per_wire = dim_per_wire.astype(int)\n",
    "    \n",
    "    \n",
    "for i1 in np.arange(0, n_wires):\n",
    "        # let's put together spin matrices\n",
    "        lx_list.append(op_at_wire(lx, i1, list(dim_per_wire)))\n",
    "        ly_list.append(op_at_wire(ly, i1, list(dim_per_wire)))\n",
    "        lz_list.append(op_at_wire(lz, i1, list(dim_per_wire)))\n",
    "        nocc_list.append(op_at_wire(nocc, i1, list(dim_per_wire)))"
   ]
  },
  {
   "cell_type": "code",
   "execution_count": 50,
   "id": "1d159971-4283-487f-899e-4a3031253634",
   "metadata": {
    "tags": []
   },
   "outputs": [
    {
     "data": {
      "text/plain": [
       "matrix([[0. , 0.5, 0. , 0. ],\n",
       "        [0.5, 0. , 0. , 0. ],\n",
       "        [0. , 0. , 0. , 0.5],\n",
       "        [0. , 0. , 0.5, 0. ]])"
      ]
     },
     "execution_count": 50,
     "metadata": {},
     "output_type": "execute_result"
    }
   ],
   "source": [
    "lx_list[1].todense()"
   ]
  },
  {
   "cell_type": "code",
   "execution_count": 51,
   "id": "b966f875-b6a6-49f0-93a2-bc36f7916d09",
   "metadata": {
    "tags": []
   },
   "outputs": [
    {
     "name": "stdout",
     "output_type": "stream",
     "text": [
      "4\n",
      "i1 = 0\n",
      "i2 = 1\n",
      "distance = -1\n",
      "i1 = 1\n"
     ]
    }
   ],
   "source": [
    "\n",
    "dim_hilbert = np.prod(dim_per_wire)\n",
    "print(dim_hilbert)\n",
    "int_matrix = csc_matrix((dim_hilbert, dim_hilbert))\n",
    "for i1 in np.arange(0, n_wires):\n",
    "        print(f\"i1 = {i1}\")\n",
    "        for i2 in np.arange(i1 + 1, n_wires):\n",
    "            print(f\"i2 = {i2}\")\n",
    "            print(f\"distance = {i1-i2}\")\n",
    "            int_matrix = (\n",
    "                int_matrix + nocc_list[i1].dot(nocc_list[i2]) / np.abs(i1 - i2) ** 6\n",
    "            )"
   ]
  },
  {
   "cell_type": "code",
   "execution_count": 52,
   "id": "c864960d-c3e6-4345-8b6c-2d75cee74aef",
   "metadata": {
    "tags": []
   },
   "outputs": [
    {
     "data": {
      "text/plain": [
       "matrix([[0., 0., 0., 0.],\n",
       "        [0., 0., 0., 0.],\n",
       "        [0., 0., 0., 0.],\n",
       "        [0., 0., 0., 1.]])"
      ]
     },
     "execution_count": 52,
     "metadata": {},
     "output_type": "execute_result"
    }
   ],
   "source": [
    "int_matrix.todense()"
   ]
  },
  {
   "cell_type": "code",
   "execution_count": 71,
   "id": "2bddcdbc-1730-4db1-ae6e-7306fcf068f0",
   "metadata": {
    "tags": []
   },
   "outputs": [],
   "source": [
    "initial_state = 1j * np.zeros(dim_per_wire[0])\n",
    "initial_state[0] = 1 + 1j * 0\n",
    "psi = sparse.csc_matrix(initial_state)\n",
    "for i1 in np.arange(1, len(dim_per_wire)):\n",
    "        initial_state = 1j * np.zeros(dim_per_wire[i1])\n",
    "        initial_state[0] = 1 + 1j * 0\n",
    "        psi = sparse.kron(psi, initial_state)\n",
    "psi = psi.T\n"
   ]
  },
  {
   "cell_type": "code",
   "execution_count": 72,
   "id": "986f0c62-cc7a-46ff-8992-393763be1f29",
   "metadata": {
    "tags": []
   },
   "outputs": [
    {
     "name": "stdout",
     "output_type": "stream",
     "text": [
      "[[1.+0.j]\n",
      " [0.+0.j]\n",
      " [0.+0.j]\n",
      " [0.+0.j]]\n"
     ]
    }
   ],
   "source": [
    "print(psi.todense())"
   ]
  },
  {
   "cell_type": "markdown",
   "id": "017228f8-bd42-49ec-b4dd-cf9b8ebd14ca",
   "metadata": {},
   "source": [
    "time to apply the rotations to have both spins on the excited"
   ]
  },
  {
   "cell_type": "code",
   "execution_count": 73,
   "id": "3046ebcd-771f-4383-8d62-19e706c1f0e3",
   "metadata": {
    "tags": []
   },
   "outputs": [
    {
     "name": "stdout",
     "output_type": "stream",
     "text": [
      "[[0.+0.j]\n",
      " [0.+0.j]\n",
      " [0.-1.j]\n",
      " [0.+0.j]]\n",
      "[[0.+0.j]\n",
      " [0.+0.j]\n",
      " [0.+0.j]\n",
      " [0.+0.j]]\n",
      "[[ 7.95422958e-33+0.00000000e+00j]\n",
      " [ 0.00000000e+00-6.08209107e-17j]\n",
      " [ 0.00000000e+00-1.16332062e-16j]\n",
      " [-1.00000000e+00+0.00000000e+00j]]\n",
      "[[ 0.+0.00000000e+00j]\n",
      " [ 0.+0.00000000e+00j]\n",
      " [ 0.-1.16332062e-16j]\n",
      " [-1.+0.00000000e+00j]]\n",
      "[[ 0.+0.00000000e+00j]\n",
      " [ 0.-6.08209107e-17j]\n",
      " [ 0.+0.00000000e+00j]\n",
      " [-1.+0.00000000e+00j]]\n"
     ]
    }
   ],
   "source": [
    "psi = expm_multiply(-1j * np.pi * lx_list[0], psi)\n",
    "print(nocc_list[0].dot(psi).todense())\n",
    "print(nocc_list[1].dot(psi).todense())\n",
    "psi = expm_multiply(-1j * np.pi * lx_list[1], psi)\n",
    "\n",
    "print(psi.todense())\n",
    "print(nocc_list[0].dot(psi).todense())\n",
    "print(nocc_list[1].dot(psi).todense())"
   ]
  },
  {
   "cell_type": "markdown",
   "id": "f1695388-5f82-45dd-9a79-97df3e3759e1",
   "metadata": {},
   "source": [
    "print the state"
   ]
  },
  {
   "cell_type": "code",
   "execution_count": 74,
   "id": "5173610a-93bc-4d9d-bf2e-de68642088e5",
   "metadata": {
    "tags": []
   },
   "outputs": [
    {
     "name": "stdout",
     "output_type": "stream",
     "text": [
      "[[ 0.+0.00000000e+00j]\n",
      " [ 0.+0.00000000e+00j]\n",
      " [ 0.-1.16332062e-16j]\n",
      " [-1.+0.00000000e+00j]]\n",
      "[[ 0.+0.00000000e+00j]\n",
      " [ 0.-6.08209107e-17j]\n",
      " [ 0.+0.00000000e+00j]\n",
      " [-1.+0.00000000e+00j]]\n",
      "[[ 0.+0.j]\n",
      " [ 0.+0.j]\n",
      " [ 0.+0.j]\n",
      " [-1.+0.j]]\n"
     ]
    }
   ],
   "source": [
    "print(nocc_list[0].dot(psi).todense())\n",
    "print(nocc_list[1].dot(psi).todense())\n",
    "print(int_matrix.dot(psi).todense())"
   ]
  },
  {
   "cell_type": "code",
   "execution_count": null,
   "id": "00d45127-791c-48c4-9bb5-10ca1c2dc6eb",
   "metadata": {},
   "outputs": [],
   "source": []
  }
 ],
 "metadata": {
  "kernelspec": {
   "display_name": "Python 3 (ipykernel)",
   "language": "python",
   "name": "python3"
  },
  "language_info": {
   "codemirror_mode": {
    "name": "ipython",
    "version": 3
   },
   "file_extension": ".py",
   "mimetype": "text/x-python",
   "name": "python",
   "nbconvert_exporter": "python",
   "pygments_lexer": "ipython3",
   "version": "3.9.15"
  }
 },
 "nbformat": 4,
 "nbformat_minor": 5
}
