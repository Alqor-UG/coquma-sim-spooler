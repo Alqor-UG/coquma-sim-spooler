{
 "cells": [
  {
   "cell_type": "markdown",
   "metadata": {},
   "source": [
    "# How to sign your results\n",
    "\n",
    "**In this notebook we collect necessary code snippets to sign messages. They are not meant for production or anything like this. So it is really just a public notepad that we are saving here for the moment.**"
   ]
  },
  {
   "cell_type": "markdown",
   "metadata": {},
   "source": [
    "Let us start with an import of the relevant functions"
   ]
  },
  {
   "cell_type": "code",
   "execution_count": 1,
   "metadata": {},
   "outputs": [],
   "source": [
    "# for key generation etc\n",
    "from cryptography.hazmat.primitives.asymmetric.ed25519 import (\n",
    "    Ed25519PrivateKey,\n",
    "    Ed25519PublicKey,\n",
    ")\n",
    "from cryptography.exceptions import InvalidSignature\n",
    "\n",
    "# to save the private key\n",
    "from cryptography.hazmat.primitives.serialization import (\n",
    "    Encoding,\n",
    "    PrivateFormat,\n",
    "    NoEncryption,\n",
    ")\n",
    "\n",
    "# to store the public key\n",
    "from cryptography.hazmat.primitives.serialization import PublicFormat\n",
    "\n",
    "# to load the private and public key\n",
    "from cryptography.hazmat.primitives.serialization import (\n",
    "    load_pem_private_key,\n",
    "    load_pem_public_key,\n",
    ")\n",
    "\n",
    "import base64\n",
    "from sqooler.security import JWSHeader, JWSDict, payload_to_base64url"
   ]
  },
  {
   "cell_type": "markdown",
   "metadata": {},
   "source": [
    "The following is the vanilla example from the [official documentation](https://cryptography.io/en/latest/hazmat/primitives/asymmetric/ed25519/)."
   ]
  },
  {
   "cell_type": "code",
   "execution_count": 2,
   "metadata": {},
   "outputs": [],
   "source": [
    "private_key = Ed25519PrivateKey.generate()\n",
    "\n",
    "signature = private_key.sign(b\"my authenticated message\")\n",
    "\n",
    "public_key = private_key.public_key()\n",
    "\n",
    "# Raises InvalidSignature if verification fails\n",
    "\n",
    "public_key.verify(signature, b\"my authenticated message\")"
   ]
  },
  {
   "cell_type": "markdown",
   "metadata": {},
   "source": [
    "Really nice, but now we have to wonder about:\n",
    "\n",
    "- How to generate and save the key pair ?\n",
    "- How to store the signature ?\n",
    "- How to load the keys at the appropriate time ?"
   ]
  },
  {
   "cell_type": "markdown",
   "metadata": {},
   "source": [
    "# Storing and loading the private key\n",
    "\n",
    "It would seem to be quite some decision to be made here. We will go the the PEM format, which seems to be fairly broadly used. I am not sure at all what the format changes, but whatever... To be seen..."
   ]
  },
  {
   "cell_type": "code",
   "execution_count": 2,
   "metadata": {},
   "outputs": [],
   "source": [
    "from cryptography.hazmat.primitives.asymmetric.ed25519 import Ed25519PrivateKey\n",
    "\n",
    "# to save the private key\n",
    "from cryptography.hazmat.primitives.serialization import (\n",
    "    Encoding,\n",
    "    PrivateFormat,\n",
    "    NoEncryption,\n",
    ")\n",
    "\n",
    "private_key = Ed25519PrivateKey.generate()\n",
    "private_key_file_name = \"private_key_test.pem\"\n",
    "private_bytes = private_key.private_bytes(\n",
    "    encoding=Encoding.PEM,\n",
    "    format=PrivateFormat.PKCS8,\n",
    "    encryption_algorithm=NoEncryption(),\n",
    ")\n",
    "\n",
    "with open(private_key_file_name, \"wb\") as pem_file:\n",
    "    pem_file.write(private_bytes)"
   ]
  },
  {
   "cell_type": "markdown",
   "metadata": {},
   "source": [
    "Another approach to store the private key is to serialize it with base64 and then simply safe it.\n"
   ]
  },
  {
   "cell_type": "code",
   "execution_count": 4,
   "metadata": {},
   "outputs": [
    {
     "name": "stdout",
     "output_type": "stream",
     "text": [
      "_FXeTqpgiMGn6m3GjVgVdGljRgOHPrA3_9FHQyKXfoc=\n"
     ]
    }
   ],
   "source": [
    "import base64\n",
    "\n",
    "private_key = Ed25519PrivateKey.generate()\n",
    "private_bytes = private_key.private_bytes_raw()\n",
    "\n",
    "private_b64 = base64.urlsafe_b64encode(private_bytes).decode(\"utf-8\")\n",
    "\n",
    "print(private_b64)"
   ]
  },
  {
   "cell_type": "markdown",
   "metadata": {},
   "source": [
    "And now it is time to also load the private key."
   ]
  },
  {
   "cell_type": "code",
   "execution_count": 4,
   "metadata": {},
   "outputs": [],
   "source": [
    "with open(private_key_file_name, \"rb\") as pem_file:\n",
    "    private_bytes_loaded = pem_file.read()\n",
    "\n",
    "private_key_loaded = load_pem_private_key(private_bytes_loaded, password=None)"
   ]
  },
  {
   "cell_type": "markdown",
   "metadata": {},
   "source": [
    "## Storing and loading the public key\n",
    "\n",
    "Let us now also find a way to store and load the public key."
   ]
  },
  {
   "cell_type": "code",
   "execution_count": 5,
   "metadata": {},
   "outputs": [],
   "source": [
    "public_key_file_name = \"public_key_test.pem\"\n",
    "\n",
    "public_bytes = public_key.public_bytes(\n",
    "    Encoding.PEM, format=PublicFormat.SubjectPublicKeyInfo\n",
    ")\n",
    "\n",
    "with open(public_key_file_name, \"wb\") as pem_file:\n",
    "    pem_file.write(public_bytes)"
   ]
  },
  {
   "cell_type": "markdown",
   "metadata": {},
   "source": [
    "and load it again"
   ]
  },
  {
   "cell_type": "code",
   "execution_count": 6,
   "metadata": {},
   "outputs": [],
   "source": [
    "with open(public_key_file_name, \"rb\") as pem_file:\n",
    "    public_bytes_loaded = pem_file.read()\n",
    "\n",
    "public_key_loaded = load_pem_public_key(public_bytes_loaded)"
   ]
  },
  {
   "cell_type": "markdown",
   "metadata": {},
   "source": [
    "time to test if the loading worked nicely"
   ]
  },
  {
   "cell_type": "code",
   "execution_count": 7,
   "metadata": {},
   "outputs": [
    {
     "name": "stdout",
     "output_type": "stream",
     "text": [
      "b'\"\\x18NI\\x89\\xba\\xeb\\x1e\\xdd\\xeb\\xc7\\xc5@)-IJW\\xff\\x06\\xdf8\\xbe\\x0c\\xf02\\xf5\\xf5\\x1aYS\\x90\\x0bi\\x07\\x95\\x97\\xb7\\xa0\\x10r\\x13\\x1f\\xaf>gX7\\xad\\xdb\\xb8\\xce\\x16]/]\\x85%\\\\U\\x024m\\x0c'\n"
     ]
    }
   ],
   "source": [
    "signature = private_key_loaded.sign(b\"my authenticated message\")\n",
    "print(signature)\n",
    "public_key_loaded.verify(signature, b\"my authenticated message\")"
   ]
  },
  {
   "cell_type": "markdown",
   "metadata": {},
   "source": [
    "Now  let us move on to the part, where we sign the document. Quite intestingly, we will mainly sign json files. So it might be \n",
    "that `jwcrypto` should be used fairly soon anyways. But for now, we will stick to the `cryptography` library.\n"
   ]
  },
  {
   "cell_type": "code",
   "execution_count": 8,
   "metadata": {},
   "outputs": [
    {
     "name": "stdout",
     "output_type": "stream",
     "text": [
      "{\"name\": \"daniel\", \"age\": 25}\n"
     ]
    }
   ],
   "source": [
    "test_dict = {\"name\": \"daniel\", \"age\": 25}\n",
    "\n",
    "# let us serialize the dictionary to a json string\n",
    "\n",
    "import json\n",
    "\n",
    "test_dict_json = json.dumps(test_dict)\n",
    "print(test_dict_json)"
   ]
  },
  {
   "cell_type": "markdown",
   "metadata": {},
   "source": [
    "And it is time to sign as well as to verify the signature."
   ]
  },
  {
   "cell_type": "code",
   "execution_count": 9,
   "metadata": {},
   "outputs": [],
   "source": [
    "signature = private_key_loaded.sign(test_dict_json.encode())\n",
    "\n",
    "public_key_loaded.verify(signature, test_dict_json.encode())"
   ]
  },
  {
   "cell_type": "markdown",
   "metadata": {},
   "source": [
    "Now that this works we need to decide on how to attach the signature. Let us already have a look at the result dictionary that we are having in mind at the moment."
   ]
  },
  {
   "cell_type": "markdown",
   "metadata": {},
   "source": [
    "## JWS\n",
    "\n",
    "The JSON Web Signature (JWS) is a compact signature format that is intended for space constrained environments such as HTTP Authorization headers and URI query parameters. It is also useful in many other situations where a JSON data structure needs to be signed or MACed. A nice introduction is given in the [official documentation](https://openid.net/specs/draft-jones-json-web-signature-04.html). For transparency purposes we will follow the standard here, but only implement the necessary parts.\n",
    "\n",
    "Some interesting and important features are:\n",
    "\n",
    "- The whole thing has a very well defined header, which is part of the things that should be signed.\n",
    "- The payload and the header are base64url encoded and concatenated with a dot.\n",
    "- Both are then signed and the signature is also base64url encoded.\n",
    "\n",
    "Let us try to see how far we want to go there.\n",
    "\n",
    "### Header\n",
    "\n",
    "- `alg` : The algorithm used for the signature. We will go with `Ed25519` for now.\n",
    "- `kid` : The key id. This is the name of the file where the public key is stored. We will go with the name of the file without the extension for now.\n",
    "- `version`: The version of the signature format. We will go with `0.1` for now.\n",
    "\n",
    "Other things like the adress etc will have to come later"
   ]
  },
  {
   "cell_type": "code",
   "execution_count": 10,
   "metadata": {},
   "outputs": [
    {
     "name": "stdout",
     "output_type": "stream",
     "text": [
      "b'eyJhbGciOiJFZDI1NTE5Iiwia2lkIjoidGVzdF9rZXkiLCJ0eXAiOiJKV1MiLCJ2ZXJzaW9uIjoiMC4xIn0='\n",
      "b'eyJuYW1lIjogImRhbmllbCIsICJhZ2UiOiAyNX0='\n",
      "b'eyJhbGciOiJFZDI1NTE5Iiwia2lkIjoidGVzdF9rZXkiLCJ0eXAiOiJKV1MiLCJ2ZXJzaW9uIjoiMC4xIn0=.eyJuYW1lIjogImRhbmllbCIsICJhZ2UiOiAyNX0='\n",
      "b'qOkIFZsH3sE5WIpSRQYluAhGr_WdAtSn4dS3SpjUfqpNN8BeBON_DtzqFLIb-nACkXXts5wrZLGUn6Lx4KEIDw=='\n",
      "b'eyJhbGciOiJFZDI1NTE5Iiwia2lkIjoidGVzdF9rZXkiLCJ0eXAiOiJKV1MiLCJ2ZXJzaW9uIjoiMC4xIn0=.eyJuYW1lIjogImRhbmllbCIsICJhZ2UiOiAyNX0=.qOkIFZsH3sE5WIpSRQYluAhGr_WdAtSn4dS3SpjUfqpNN8BeBON_DtzqFLIb-nACkXXts5wrZLGUn6Lx4KEIDw=='\n"
     ]
    }
   ],
   "source": [
    "header = JWSHeader(kid=\"test_key\")\n",
    "\n",
    "header_base64 = header.to_base64url()\n",
    "print(header_base64)\n",
    "payload_base64 = payload_to_base64url(test_dict)\n",
    "print(payload_base64)\n",
    "\n",
    "full_message = header_base64 + b\".\" + payload_base64\n",
    "print(full_message)\n",
    "\n",
    "signature = private_key.sign(full_message)\n",
    "signature_base64 = base64.urlsafe_b64encode(signature)\n",
    "print(signature_base64)\n",
    "\n",
    "# the full string\n",
    "\n",
    "sjs_string = full_message + b\".\" + signature_base64\n",
    "print(sjs_string)\n",
    "\n",
    "constructed_jws = JWSDict(header=header, payload=test_dict, signature=signature)"
   ]
  },
  {
   "cell_type": "markdown",
   "metadata": {},
   "source": [
    "This is starting to shape up nicely. Let us now try to sign and verify a JWS."
   ]
  },
  {
   "cell_type": "code",
   "execution_count": 11,
   "metadata": {},
   "outputs": [],
   "source": [
    "public_key_loaded.verify(signature, full_message)"
   ]
  },
  {
   "cell_type": "markdown",
   "metadata": {},
   "source": [
    "So let us now assume that we have created the payload and stored the private_key in pem file. Then we can now start to put things together."
   ]
  },
  {
   "cell_type": "code",
   "execution_count": 18,
   "metadata": {},
   "outputs": [],
   "source": [
    "def sign_payload(payload: dict, private_key: Ed25519PrivateKey, kid: str) -> JWSDict:\n",
    "    \"\"\"\n",
    "    Convert a payload to a JWS object. We will assumar that\n",
    "\n",
    "    Args:\n",
    "        payload : The payload to convert\n",
    "        private_key: The private key to use for signing\n",
    "        kid: The key id of the private that you use for signing.\n",
    "\n",
    "    Returns:\n",
    "        JWS : The JWS object\n",
    "    \"\"\"\n",
    "    header = JWSHeader(kid=kid)\n",
    "    header_base64 = header.to_base64url()\n",
    "    payload_base64 = payload_to_base64url(payload)\n",
    "    full_message = header_base64 + b\".\" + payload_base64\n",
    "\n",
    "    signature = private_key.sign(full_message)\n",
    "    signature_base64 = base64.urlsafe_b64encode(signature)\n",
    "    return JWSDict(header=header, payload=payload, signature=signature_base64)"
   ]
  },
  {
   "cell_type": "code",
   "execution_count": 19,
   "metadata": {},
   "outputs": [
    {
     "name": "stdout",
     "output_type": "stream",
     "text": [
      "{\"header\":{\"alg\":\"Ed25519\",\"kid\":\"test_key\",\"typ\":\"JWS\",\"version\":\"0.1\"},\"payload\":{\"name\":\"daniel\",\"age\":25},\"signature\":\"qOkIFZsH3sE5WIpSRQYluAhGr_WdAtSn4dS3SpjUfqpNN8BeBON_DtzqFLIb-nACkXXts5wrZLGUn6Lx4KEIDw==\"}\n"
     ]
    }
   ],
   "source": [
    "signed_pl = sign_payload(test_dict, private_key, \"test_key\")\n",
    "print(signed_pl.model_dump_json())"
   ]
  },
  {
   "cell_type": "markdown",
   "metadata": {},
   "source": [
    "and now we also have the full method to verify the signature."
   ]
  },
  {
   "cell_type": "code",
   "execution_count": 16,
   "metadata": {},
   "outputs": [],
   "source": [
    "def verify_jws(jws_obj: JWSDict, public_key: Ed25519PublicKey) -> bool:\n",
    "    \"\"\"\n",
    "    Verify the integraty of JWS object.\n",
    "\n",
    "    Args:\n",
    "        jws_obj : The JWS object to verify\n",
    "        public_key: The public key to use for verification\n",
    "\n",
    "    Returns:\n",
    "        if the signature can be verified\n",
    "    \"\"\"\n",
    "\n",
    "    signature = base64.urlsafe_b64decode(jws_obj.signature)\n",
    "\n",
    "    header_base64 = jws_obj.header.to_base64url()\n",
    "    payload_base64 = payload_to_base64url(jws_obj.payload)\n",
    "    full_message = header_base64 + b\".\" + payload_base64\n",
    "\n",
    "    try:\n",
    "        public_key.verify(signature, full_message)\n",
    "        return True\n",
    "    except InvalidSignature:\n",
    "        return False"
   ]
  },
  {
   "cell_type": "code",
   "execution_count": 17,
   "metadata": {},
   "outputs": [
    {
     "data": {
      "text/plain": [
       "True"
      ]
     },
     "execution_count": 17,
     "metadata": {},
     "output_type": "execute_result"
    }
   ],
   "source": [
    "verify_jws(signed_pl, \"public_key_test\")"
   ]
  },
  {
   "cell_type": "code",
   "execution_count": 3,
   "metadata": {},
   "outputs": [],
   "source": [
    "from sqooler.security import create_jwk_pair, jwk_from_config_str"
   ]
  },
  {
   "cell_type": "code",
   "execution_count": 2,
   "metadata": {},
   "outputs": [
    {
     "name": "stdout",
     "output_type": "stream",
     "text": [
      "eyJ4IjoiZ2x2a3hLeVQxblJlTmFXV2hzYnJtNFpoZUp3alliWnJBZUlIcEFIbno3RT0iLCJrZXlfb3BzIjoic2lnbiIsImtpZCI6InRlc3Rfa2V5IiwiZCI6IkVKajVPeVQ0dlhtaDVJOUt2QkVUN1U0bHdDXzd4VDdUeTdoREZrajBRbW89Iiwia3R5IjoiT0tQIiwiYWxnIjoiRWREU0EiLCJjcnYiOiJFZDI1NTE5In0=\n"
     ]
    }
   ],
   "source": [
    "private_jwk, public_jwk = create_jwk_pair(\"test_key\")\n",
    "\n",
    "private_key_str = private_jwk.to_config_str()\n",
    "print(private_key_str)"
   ]
  },
  {
   "cell_type": "code",
   "execution_count": 4,
   "metadata": {},
   "outputs": [
    {
     "data": {
      "text/plain": [
       "JWK(x=b'glvkxKyT1nReNaWWhsbrm4ZheJwjYbZrAeIHpAHnz7E=', key_ops='sign', kid='test_key', d=b'EJj5OyT4vXmh5I9KvBET7U4lwC_7xT7Ty7hDFkj0Qmo=', kty='OKP', alg='EdDSA', crv='Ed25519')"
      ]
     },
     "execution_count": 4,
     "metadata": {},
     "output_type": "execute_result"
    }
   ],
   "source": [
    "jwk_from_config_str(private_key_str)"
   ]
  },
  {
   "cell_type": "markdown",
   "metadata": {},
   "source": [
    "What about the serialization of the datetime ?"
   ]
  },
  {
   "cell_type": "code",
   "execution_count": 1,
   "metadata": {},
   "outputs": [],
   "source": [
    "from pydantic import BaseModel\n",
    "from datetime import datetime"
   ]
  },
  {
   "cell_type": "code",
   "execution_count": null,
   "metadata": {},
   "outputs": [],
   "source": [
    "class TestModel(BaseModel):\n",
    "    name: str\n",
    "    last_queued: datetime"
   ]
  }
 ],
 "metadata": {
  "kernelspec": {
   "display_name": "sqooler-H-q1kjQB-py3.12",
   "language": "python",
   "name": "python3"
  },
  "language_info": {
   "codemirror_mode": {
    "name": "ipython",
    "version": 3
   },
   "file_extension": ".py",
   "mimetype": "text/x-python",
   "name": "python",
   "nbconvert_exporter": "python",
   "pygments_lexer": "ipython3",
   "version": "3.12.1"
  }
 },
 "nbformat": 4,
 "nbformat_minor": 2
}
