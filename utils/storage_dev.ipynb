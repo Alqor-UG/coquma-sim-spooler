{
 "cells": [
  {
   "cell_type": "code",
   "execution_count": 1,
   "metadata": {},
   "outputs": [],
   "source": [
    "import uuid\n",
    "import datetime\n",
    "from storage_providers import DropboxProvider"
   ]
  },
  {
   "attachments": {},
   "cell_type": "markdown",
   "metadata": {},
   "source": [
    "# Dropbox \n",
    "\n",
    "first upload the file"
   ]
  },
  {
   "cell_type": "code",
   "execution_count": 2,
   "metadata": {},
   "outputs": [],
   "source": [
    "storage_provider = DropboxProvider()\n",
    "\n",
    "# create a dummy backend\n",
    "dummy_id = uuid.uuid4().hex[:5]\n",
    "backend_name = f\"dummy_{dummy_id}\"\n",
    "\n",
    "# first we have to upload a dummy job\n",
    "job_dict = {\"job_id\": 0, \"job_json_path\": \"None\"}\n",
    "\n",
    "# create a typical dropbox job id\n",
    "username = \"test_user\"\n",
    "job_id = (\n",
    "            (datetime.datetime.utcnow().strftime(\"%Y%m%d_%H%M%S\"))\n",
    "            + \"-\"\n",
    "            + backend_name\n",
    "            + \"-\"\n",
    "            + username\n",
    "            + \"-\"\n",
    "            + (uuid.uuid4().hex)[:5]\n",
    "        )\n",
    "\n",
    "queue_path = f\"Backend_files/Queued_Jobs/{backend_name}\"\n",
    "job_dict[\"job_json_path\"] = queue_path\n",
    "job_name = \"job-\" + job_id\n",
    "storage_provider.upload(job_dict, queue_path, job_id=job_name)"
   ]
  },
  {
   "attachments": {},
   "cell_type": "markdown",
   "metadata": {},
   "source": [
    "and now get the job list"
   ]
  },
  {
   "cell_type": "code",
   "execution_count": 3,
   "metadata": {},
   "outputs": [
    {
     "name": "stdout",
     "output_type": "stream",
     "text": [
      "['job-20230430_204810-dummy_cd052-test_user-27e8b.json']\n"
     ]
    }
   ],
   "source": [
    "job_list = storage_provider.get_file_queue(queue_path)\n",
    "print(job_list)"
   ]
  },
  {
   "attachments": {},
   "cell_type": "markdown",
   "metadata": {},
   "source": [
    "finally get the next job in the queue"
   ]
  },
  {
   "cell_type": "code",
   "execution_count": 4,
   "metadata": {},
   "outputs": [
    {
     "name": "stdout",
     "output_type": "stream",
     "text": [
      "/Backend_files/Queued_Jobs/dummy_cd052/\n",
      "job-20230430_204810-dummy_cd052-test_user-27e8b\n",
      "/Backend_files/Queued_Jobs/dummy_cd052/job-20230430_204810-dummy_cd052-test_user-27e8b.json\n",
      "/Backend_files/Running_Jobs/job-20230430_204810-dummy_cd052-test_user-27e8b.json\n",
      "{'job_id': '20230430_204810-dummy_cd052-test_user-27e8b', 'job_json_path': 'Backend_files/Running_Jobs'}\n"
     ]
    }
   ],
   "source": [
    "next_job = storage_provider.get_next_job_in_queue(backend_name)\n",
    "print(next_job)"
   ]
  },
  {
   "attachments": {},
   "cell_type": "markdown",
   "metadata": {},
   "source": [
    "test the update"
   ]
  },
  {
   "cell_type": "code",
   "execution_count": 5,
   "metadata": {},
   "outputs": [
    {
     "name": "stdout",
     "output_type": "stream",
     "text": [
      "20230430_204810-dummy_cd052-test_user-27e8b\n",
      "/Backend_files/Running_Jobs/job-20230430_204810-dummy_cd052-test_user-27e8b.json\n",
      "/Backend_files/Finished_Jobs/dummy_cd052/test_user/job-20230430_204810-dummy_cd052-test_user-27e8b.json\n"
     ]
    }
   ],
   "source": [
    "result_dict = {\n",
    "        \"backend_name\": backend_name,\n",
    "        \"backend_version\": \"0.0.1\",\n",
    "        \"job_id\": next_job[\"job_id\"],\n",
    "        \"qobj_id\": None,\n",
    "        \"success\": True,\n",
    "        \"status\": \"finished\",\n",
    "        \"header\": {},\n",
    "        \"results\": [],\n",
    "    }\n",
    "status_msg_dict = {\"status\": \"DONE\"}\n",
    "storage_provider.update_in_database(result_dict, status_msg_dict, next_job[\"job_id\"])"
   ]
  },
  {
   "attachments": {},
   "cell_type": "markdown",
   "metadata": {},
   "source": [
    "# Mongodb\n",
    "\n",
    "implement the same thing once again\n",
    "\n",
    "## First the configurations"
   ]
  },
  {
   "cell_type": "code",
   "execution_count": null,
   "metadata": {},
   "outputs": [],
   "source": [
    "storage_provider = DropboxProvider()\n",
    "\n",
    "# create a dummy backend\n",
    "dummy_id = uuid.uuid4().hex[:5]\n",
    "dummy_dict: dict = {}\n",
    "dummy_dict[\"gates\"] = []\n",
    "dummy_dict[\"num_wires\"] = 3\n",
    "dummy_dict[\"version\"] = \"0.0.1\"\n",
    "\n",
    "backend_name = f\"dummy_{dummy_id}\"\n",
    "\n",
    "dummy_dict[\"name\"] = backend_name\n",
    "\n",
    "# all the configuratiosn should be stored in the Backend_files/Config folder\n",
    "config_path = f\"Backend_files/Config\"\n",
    "storage_provider.upload(dummy_dict, config_path, job_id=\"config\")"
   ]
  },
  {
   "attachments": {},
   "cell_type": "markdown",
   "metadata": {},
   "source": [
    "## The user and jobs"
   ]
  },
  {
   "cell_type": "code",
   "execution_count": null,
   "metadata": {},
   "outputs": [],
   "source": [
    "storage_provider = DropboxProvider()\n",
    "\n",
    "# create a dummy backend\n",
    "dummy_id = uuid.uuid4().hex[:5]\n",
    "backend_name = f\"dummy_{dummy_id}\"\n",
    "\n",
    "# first we have to upload a dummy job\n",
    "job_dict = {\"job_id\": 0, \"job_json_path\": \"None\"}\n",
    "\n",
    "# create a typical dropbox job id\n",
    "username = \"test_user\"\n",
    "job_id = (\n",
    "            (datetime.datetime.utcnow().strftime(\"%Y%m%d_%H%M%S\"))\n",
    "            + \"-\"\n",
    "            + backend_name\n",
    "            + \"-\"\n",
    "            + username\n",
    "            + \"-\"\n",
    "            + (uuid.uuid4().hex)[:5]\n",
    "        )\n",
    "\n",
    "queue_path = f\"Backend_files/Queued_Jobs/{backend_name}\"\n",
    "job_dict[\"job_json_path\"] = queue_path\n",
    "job_name = \"job-\" + job_id\n",
    "storage_provider.upload(job_dict, queue_path, job_id=job_name)"
   ]
  }
 ],
 "metadata": {
  "kernelspec": {
   "display_name": "coquma-sim-spooler",
   "language": "python",
   "name": "python3"
  },
  "language_info": {
   "codemirror_mode": {
    "name": "ipython",
    "version": 3
   },
   "file_extension": ".py",
   "mimetype": "text/x-python",
   "name": "python",
   "nbconvert_exporter": "python",
   "pygments_lexer": "ipython3",
   "version": "3.9.15"
  },
  "orig_nbformat": 4
 },
 "nbformat": 4,
 "nbformat_minor": 2
}
