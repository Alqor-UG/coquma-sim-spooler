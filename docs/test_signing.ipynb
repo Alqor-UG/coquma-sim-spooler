{
 "cells": [
  {
   "cell_type": "markdown",
   "metadata": {},
   "source": [
    "# How to sign your results\n",
    "\n",
    "In this notebook we collect necessary code snippets to sign messages."
   ]
  },
  {
   "cell_type": "markdown",
   "metadata": {},
   "source": [
    "Let us start with an import of the relevant functions"
   ]
  },
  {
   "cell_type": "code",
   "execution_count": 9,
   "metadata": {},
   "outputs": [],
   "source": [
    "# for key generation etc\n",
    "from cryptography.hazmat.primitives.asymmetric.ed25519 import Ed25519PrivateKey\n",
    "\n",
    "# to save the private key\n",
    "from cryptography.hazmat.primitives.serialization import (\n",
    "    Encoding,\n",
    "    PrivateFormat,\n",
    "    NoEncryption,\n",
    ")\n",
    "\n",
    "# to store the public key\n",
    "from cryptography.hazmat.primitives.serialization import PublicFormat\n",
    "\n",
    "# to load the private and public key\n",
    "from cryptography.hazmat.primitives.serialization import load_pem_private_key, load_pem_public_key"
   ]
  },
  {
   "cell_type": "markdown",
   "metadata": {},
   "source": [
    "The following is the vanilla example from the [official documentation](https://cryptography.io/en/latest/hazmat/primitives/asymmetric/ed25519/)."
   ]
  },
  {
   "cell_type": "code",
   "execution_count": 10,
   "metadata": {},
   "outputs": [],
   "source": [
    "\n",
    "private_key = Ed25519PrivateKey.generate()\n",
    "\n",
    "signature = private_key.sign(b\"my authenticated message\")\n",
    "\n",
    "public_key = private_key.public_key()\n",
    "\n",
    "# Raises InvalidSignature if verification fails\n",
    "\n",
    "public_key.verify(signature, b\"my authenticated message\")"
   ]
  },
  {
   "cell_type": "markdown",
   "metadata": {},
   "source": [
    "Really nice, but now we have to wonder about:\n",
    "\n",
    "- How to generate and save the key pair ?\n",
    "- How to store the signature ?\n",
    "- How to load the keys at the appropriate time ?"
   ]
  },
  {
   "cell_type": "markdown",
   "metadata": {},
   "source": [
    "# Storing and loading the private key\n",
    "\n",
    "It would seem to be quite some decision to be made here. We will go the the PEM format, which seems to be fairly broadly used. I am not sure at all what the format changes, but whatever... To be seen..."
   ]
  },
  {
   "cell_type": "code",
   "execution_count": 11,
   "metadata": {},
   "outputs": [],
   "source": [
    "private_key_file_name = \"private_key_test.pem\"\n",
    "private_bytes = private_key.private_bytes(\n",
    "    encoding=Encoding.PEM, format=PrivateFormat.PKCS8, encryption_algorithm=NoEncryption()\n",
    ")\n",
    "\n",
    "with open(private_key_file_name, \"wb\") as pem_file:\n",
    "    pem_file.write(private_bytes)"
   ]
  },
  {
   "cell_type": "markdown",
   "metadata": {},
   "source": [
    "And now it is time to also load the private key."
   ]
  },
  {
   "cell_type": "code",
   "execution_count": 12,
   "metadata": {},
   "outputs": [],
   "source": [
    "with open(private_key_file_name, \"rb\") as pem_file:\n",
    "    private_bytes_loaded = pem_file.read()\n",
    "\n",
    "private_key_loaded = load_pem_private_key(private_bytes_loaded, password=None)"
   ]
  },
  {
   "cell_type": "markdown",
   "metadata": {},
   "source": [
    "## Storing and loading the public key\n",
    "\n",
    "Let us now also find a way to store and load the public key."
   ]
  },
  {
   "cell_type": "code",
   "execution_count": 13,
   "metadata": {},
   "outputs": [],
   "source": [
    "public_key_file_name = \"public_key_test.pem\"\n",
    "\n",
    "public_bytes = public_key.public_bytes(\n",
    "    Encoding.PEM, format=PublicFormat.SubjectPublicKeyInfo\n",
    ")\n",
    "\n",
    "with open(public_key_file_name, \"wb\") as pem_file:\n",
    "    pem_file.write(public_bytes)"
   ]
  },
  {
   "cell_type": "markdown",
   "metadata": {},
   "source": [
    "and load it again"
   ]
  },
  {
   "cell_type": "code",
   "execution_count": 14,
   "metadata": {},
   "outputs": [],
   "source": [
    "with open(public_key_file_name, \"rb\") as pem_file:\n",
    "    public_bytes_loaded = pem_file.read()\n",
    "\n",
    "public_key_loaded = load_pem_public_key(public_bytes_loaded)"
   ]
  },
  {
   "cell_type": "markdown",
   "metadata": {},
   "source": [
    "time to test if the loading worked nicely"
   ]
  },
  {
   "cell_type": "code",
   "execution_count": 15,
   "metadata": {},
   "outputs": [
    {
     "name": "stdout",
     "output_type": "stream",
     "text": [
      "b'\\x14-\\x95\\xce\\x16>\\xee;\\xdc\\xed\\xce\\x10\\xdc\\xdc\\xf5\\xf6\\xce\\xad\\x9e\\x14o\\xd1\\x02\\xc6\\\\f\\x91D\\x8b\\xbd\\xbd\\xe3\\x03=A\\xbb\\x9d\\xac\\rK\\xe5sY\\xc1\\xecG\\xb9\\xe1;\\x9d1\\xb63\\x14\\xd9^\\xbf\\xa4A-\\xbbV\\x8b\\x0f'\n"
     ]
    }
   ],
   "source": [
    "signature = private_key_loaded.sign(b\"my authenticated message\")\n",
    "print(signature)\n",
    "public_key_loaded.verify(signature, b\"my authenticated message\")"
   ]
  },
  {
   "cell_type": "markdown",
   "metadata": {},
   "source": [
    "Now  let us move on to the part, where we sign the document. Quite intestingly, we will mainly sign json files. So it might be \n",
    "that `jwcrypto` should be used fairly soon anyways. But for now, we will stick to the `cryptography` library.\n"
   ]
  },
  {
   "cell_type": "code",
   "execution_count": 16,
   "metadata": {},
   "outputs": [
    {
     "name": "stdout",
     "output_type": "stream",
     "text": [
      "{\"name\": \"daniel\", \"age\": 25}\n"
     ]
    }
   ],
   "source": [
    "test_dict = {\"name\": \"daniel\", \"age\": 25}\n",
    "\n",
    "# let us serialize the dictionary to a json string\n",
    "\n",
    "import json\n",
    "test_dict_json = json.dumps(test_dict)\n",
    "print(test_dict_json)"
   ]
  },
  {
   "cell_type": "markdown",
   "metadata": {},
   "source": [
    "And it is time to sign as well as to verify the signature."
   ]
  },
  {
   "cell_type": "code",
   "execution_count": 17,
   "metadata": {},
   "outputs": [],
   "source": [
    "signature = private_key_loaded.sign(test_dict_json.encode())\n",
    "\n",
    "public_key_loaded.verify(signature, test_dict_json.encode())"
   ]
  },
  {
   "cell_type": "markdown",
   "metadata": {},
   "source": [
    "Now that this works we need to decide on how to attach the signature. Let us already have a look at the result dictionary that we are having in mind at the moment."
   ]
  },
  {
   "cell_type": "markdown",
   "metadata": {},
   "source": [
    "## JWS\n",
    "\n",
    "The JSON Web Signature (JWS) is a compact signature format that is intended for space constrained environments such as HTTP Authorization headers and URI query parameters. It is also useful in many other situations where a JSON data structure needs to be signed or MACed. A nice introduction is given in the [official documentation](https://openid.net/specs/draft-jones-json-web-signature-04.html). However, it is actually a fairly complex format and will take quite some time to be implemented properly around here.\n",
    "\n",
    "Some interesting and important features are:\n",
    "\n",
    "- The whole thing has a very well defined header, which is part of the things that should be signed.\n",
    "- The payload and the header are base64url encoded and concatenated with a dot.\n",
    "- Both are then signed and the signature is also base64url encoded.\n",
    "\n",
    "Let us try to see how far we want to go there.\n",
    "\n"
   ]
  },
  {
   "cell_type": "markdown",
   "metadata": {},
   "source": [
    "## Simple JSON Signature (SJS)\n",
    "\n",
    "Let us take the JWS and simply go with the most important features for now. First, is to have a nice header.\n",
    "\n",
    "### Header\n",
    "\n",
    "- `alg` : The algorithm used for the signature. We will go with `Ed25519` for now.\n",
    "- `kid` : The key id. This is the name of the file where the public key is stored. We will go with the name of the file without the extension for now.\n",
    "- `version`: The version of the signature format. We will go with `0.1` for now.\n",
    "\n",
    "Other things like the adress etc will have to come later"
   ]
  },
  {
   "cell_type": "code",
   "execution_count": 18,
   "metadata": {},
   "outputs": [],
   "source": [
    "from pydantic import BaseModel, Field\n",
    "import base64\n",
    "class SjsHeader(BaseModel):\n",
    "    alg: str = Field(default=\"Ed25519\", description=\"The algorithm used for signing\")\n",
    "    kid: str = Field(description=\"The key id of the public key used for signing\")\n",
    "    version: str = Field(default = \"0.1\", description=\"The version of the signature format\")\n",
    "\n",
    "def header_to_base64url(header: SjsHeader) -> bytes:\n",
    "    \"\"\"\n",
    "    Convert an SJS header to a base64url encoded string.\n",
    "\n",
    "    Args:\n",
    "        header : The SJS header to encode\n",
    "\n",
    "    Returns:\n",
    "        bytes : The base64url encoded header\n",
    "    \"\"\"\n",
    "\n",
    "    # transform into a json string\n",
    "    header_json = header.model_dump_json()\n",
    "\n",
    "    # binary encode the json string\n",
    "    binary_string = header_json.encode()\n",
    "\n",
    "    # base64 encode the binary string\n",
    "    base64_encoded =    base64.b64encode(binary_string)\n",
    "    return base64_encoded\n",
    "\n",
    "def payload_to_base64url(payload: dict) -> bytes:\n",
    "    \"\"\"\n",
    "    Convert an arbitrary payload to a base64url encoded string.\n",
    "\n",
    "    Args:\n",
    "        payload : The dictionary to encode\n",
    "\n",
    "    Returns:\n",
    "        bytes : The base64url encoded header\n",
    "    \"\"\"\n",
    "\n",
    "    # transform into a json string\n",
    "    payload_string = json.dumps(payload)\n",
    "\n",
    "    # binary encode the json string\n",
    "    binary_string = payload_string.encode()\n",
    "\n",
    "    # base64 encode the binary string\n",
    "    base64_encoded = base64.b64encode(binary_string)\n",
    "    return base64_encoded"
   ]
  },
  {
   "cell_type": "code",
   "execution_count": 24,
   "metadata": {},
   "outputs": [
    {
     "name": "stdout",
     "output_type": "stream",
     "text": [
      "b'eyJhbGciOiJFZDI1NTE5Iiwia2lkIjoidGVzdF9rZXkiLCJ2ZXJzaW9uIjoiMC4xIn0='\n",
      "b'eyJuYW1lIjogImRhbmllbCIsICJhZ2UiOiAyNX0='\n",
      "b'eyJhbGciOiJFZDI1NTE5Iiwia2lkIjoidGVzdF9rZXkiLCJ2ZXJzaW9uIjoiMC4xIn0=.eyJuYW1lIjogImRhbmllbCIsICJhZ2UiOiAyNX0='\n",
      "b'j7dPqAwVQWPDoITFat+2VxRxHfn4uaNDF1wPrhZ9vduPj0GBkCvjkn0K6Nxkn2zpgV+FU5TbAamg35X8seQxCA=='\n",
      "b'eyJhbGciOiJFZDI1NTE5Iiwia2lkIjoidGVzdF9rZXkiLCJ2ZXJzaW9uIjoiMC4xIn0=.eyJuYW1lIjogImRhbmllbCIsICJhZ2UiOiAyNX0=.j7dPqAwVQWPDoITFat+2VxRxHfn4uaNDF1wPrhZ9vduPj0GBkCvjkn0K6Nxkn2zpgV+FU5TbAamg35X8seQxCA=='\n"
     ]
    }
   ],
   "source": [
    "header = SjsHeader(kid=\"test_key\")\n",
    "\n",
    "header_base64 = header_to_base64url(header)\n",
    "print(header_base64)\n",
    "payload_base64 = payload_to_base64url(test_dict)\n",
    "print(payload_base64)\n",
    "\n",
    "full_message = header_base64 + b\".\" + payload_base64\n",
    "print(full_message)\n",
    "\n",
    "signature = private_key.sign(full_message)\n",
    "signature_base64 = base64.b64encode(signature)\n",
    "print(signature_base64)\n",
    "\n",
    "# the full string \n",
    "\n",
    "sjs_string = full_message + b\".\" + signature_base64\n",
    "print(sjs_string)"
   ]
  }
 ],
 "metadata": {
  "kernelspec": {
   "display_name": "sqooler-H-q1kjQB-py3.12",
   "language": "python",
   "name": "python3"
  },
  "language_info": {
   "codemirror_mode": {
    "name": "ipython",
    "version": 3
   },
   "file_extension": ".py",
   "mimetype": "text/x-python",
   "name": "python",
   "nbconvert_exporter": "python",
   "pygments_lexer": "ipython3",
   "version": "3.12.1"
  }
 },
 "nbformat": 4,
 "nbformat_minor": 2
}
